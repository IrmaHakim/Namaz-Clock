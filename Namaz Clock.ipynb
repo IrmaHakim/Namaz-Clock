{
 "cells": [
  {
   "cell_type": "code",
   "execution_count": 4,
   "id": "1c4c478c",
   "metadata": {},
   "outputs": [
    {
     "name": "stdout",
     "output_type": "stream",
     "text": [
      "Enter background colour: black\n",
      "Enter text colour: blue\n"
     ]
    }
   ],
   "source": [
    "import tkinter as tk\n",
    "import time\n",
    "from tkinter import*\n",
    "\n",
    "background_colour=input(\"Enter background colour: \")\n",
    "text_colour=input(\"Enter text colour: \")\n",
    "\n",
    "\n",
    "clock=tk.Tk()\n",
    "clock.title(\"Namaz Clock\")\n",
    "clock.geometry('800x800')\n",
    "clock.configure(bg='powder blue')\n",
    "\n",
    "def tick(time1=\"\"):\n",
    "    time2 = time.strftime(\"%I : %M : %S\")\n",
    "    clock_frame.configure(text=time2)\n",
    "    clock_frame.after(20,tick)\n",
    "\n",
    "def Fajar_namaz():\n",
    "    Fajar.configure(text=\"06:15 am Fajar\")\n",
    "    \n",
    "def Zuhar_namaz():\n",
    "    Zuhar.configure(text=\"01:45 pm Zuhar\")\n",
    "    \n",
    "def Asar_namaz():\n",
    "    Asar.configure(text=\"04:30 pm Asar\")\n",
    "    \n",
    "def Magrib_namaz():\n",
    "    Magrib.configure(text=\"05:50 pm Magrib\")\n",
    "    \n",
    "def Isha_namaz():\n",
    "    Isha.configure(text=\"07:30 pm Isha\")\n",
    "    \n",
    "def Jumma_namaz():\n",
    "    Jumma.configure(text=\"01:45 pm Jumma\")\n",
    "    \n",
    "    \n",
    "clock_frame=Label(clock,font=\"arial 100 bold\",fg=text_colour,bg=background_colour)\n",
    "clock_frame.pack(fill=\"both\",expand=1)\n",
    "\n",
    "Timing=Label(clock,text=\"Timings of Namaz\",font=\"arial 40 bold\",fg=text_colour,bg=background_colour,anchor=\"n\")\n",
    "Timing.pack(fill=X)\n",
    "\n",
    "Fajar=Label(clock,font=\"arial 20 bold\",fg=text_colour,bg=background_colour,anchor=\"n\")\n",
    "Fajar.pack(fill=X)\n",
    "\n",
    "Zuhar=Label(clock,font=\"arial 20 bold\",fg=text_colour,bg=background_colour,anchor=\"n\")\n",
    "Zuhar.pack(fill=X)\n",
    "\n",
    "Asar=Label(clock,font=\"arial 20 bold\",fg=text_colour,bg=background_colour,anchor=\"n\")\n",
    "Asar.pack(fill=X)\n",
    "\n",
    "Magrib=Label(clock,font=\"arial 20 bold\",fg=text_colour,bg=background_colour,anchor=\"n\")\n",
    "Magrib.pack(fill=X)\n",
    "\n",
    "Isha=Label(clock,font=\"arial 20 bold\",fg=text_colour,bg=background_colour,anchor=\"n\")\n",
    "Isha.pack(fill=X)\n",
    "\n",
    "Jumma=Label(clock,font=\"arial 20 bold\",fg=text_colour,bg=background_colour,anchor=\"n\")\n",
    "Jumma.pack(fill=X)\n",
    "\n",
    "tick()\n",
    "Fajar_namaz()\n",
    "Zuhar_namaz()\n",
    "Asar_namaz()\n",
    "Magrib_namaz()\n",
    "Isha_namaz()\n",
    "Jumma_namaz()\n",
    "\n",
    "clock.mainloop()"
   ]
  },
  {
   "cell_type": "code",
   "execution_count": null,
   "id": "5f338a74",
   "metadata": {},
   "outputs": [],
   "source": []
  },
  {
   "cell_type": "code",
   "execution_count": null,
   "id": "54933807",
   "metadata": {},
   "outputs": [],
   "source": []
  }
 ],
 "metadata": {
  "kernelspec": {
   "display_name": "Python 3 (ipykernel)",
   "language": "python",
   "name": "python3"
  },
  "language_info": {
   "codemirror_mode": {
    "name": "ipython",
    "version": 3
   },
   "file_extension": ".py",
   "mimetype": "text/x-python",
   "name": "python",
   "nbconvert_exporter": "python",
   "pygments_lexer": "ipython3",
   "version": "3.8.7"
  }
 },
 "nbformat": 4,
 "nbformat_minor": 5
}
